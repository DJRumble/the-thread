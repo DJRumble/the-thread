{
 "cells": [
  {
   "cell_type": "code",
   "execution_count": 3,
   "metadata": {},
   "outputs": [
    {
     "name": "stdout",
     "output_type": "stream",
     "text": [
      "Collecting wordcloud\n",
      "  Downloading wordcloud-1.7.0-cp36-cp36m-manylinux1_x86_64.whl (364 kB)\n",
      "\u001b[K     |████████████████████████████████| 364 kB 20.8 MB/s eta 0:00:01\n",
      "\u001b[?25hRequirement already satisfied: numpy>=1.6.1 in /home/ec2-user/anaconda3/envs/python3/lib/python3.6/site-packages (from wordcloud) (1.18.1)\n",
      "Requirement already satisfied: pillow in /home/ec2-user/anaconda3/envs/python3/lib/python3.6/site-packages (from wordcloud) (7.0.0)\n",
      "Requirement already satisfied: matplotlib in /home/ec2-user/anaconda3/envs/python3/lib/python3.6/site-packages (from wordcloud) (3.1.3)\n",
      "Requirement already satisfied: cycler>=0.10 in /home/ec2-user/anaconda3/envs/python3/lib/python3.6/site-packages (from matplotlib->wordcloud) (0.10.0)\n",
      "Requirement already satisfied: python-dateutil>=2.1 in /home/ec2-user/anaconda3/envs/python3/lib/python3.6/site-packages (from matplotlib->wordcloud) (2.8.1)\n",
      "Requirement already satisfied: kiwisolver>=1.0.1 in /home/ec2-user/anaconda3/envs/python3/lib/python3.6/site-packages (from matplotlib->wordcloud) (1.1.0)\n",
      "Requirement already satisfied: pyparsing!=2.0.4,!=2.1.2,!=2.1.6,>=2.0.1 in /home/ec2-user/anaconda3/envs/python3/lib/python3.6/site-packages (from matplotlib->wordcloud) (2.4.6)\n",
      "Requirement already satisfied: six in /home/ec2-user/anaconda3/envs/python3/lib/python3.6/site-packages (from cycler>=0.10->matplotlib->wordcloud) (1.14.0)\n",
      "Requirement already satisfied: setuptools in /home/ec2-user/anaconda3/envs/python3/lib/python3.6/site-packages (from kiwisolver>=1.0.1->matplotlib->wordcloud) (46.1.3.post20200330)\n",
      "Installing collected packages: wordcloud\n",
      "Successfully installed wordcloud-1.7.0\n",
      "\u001b[33mWARNING: You are using pip version 20.0.2; however, version 20.1.1 is available.\n",
      "You should consider upgrading via the '/home/ec2-user/anaconda3/envs/python3/bin/python -m pip install --upgrade pip' command.\u001b[0m\n"
     ]
    }
   ],
   "source": [
    "!pip install wordcloud\n",
    "!pip install spacy\n",
    "!pip install gensim"
   ]
  },
  {
   "cell_type": "code",
   "execution_count": 5,
   "metadata": {},
   "outputs": [],
   "source": [
    "import pandas as pd\n",
    "import numpy as np\n",
    "import matplotlib.pyplot as plt\n",
    "\n",
    "from wordcloud import WordCloud, STOPWORDS\n",
    "from nltk.stem import PorterStemmer\n",
    "# spacy for lemmatization\n",
    "import spacy\n",
    "from spacy.lang.en import English\n",
    "from spacy.lang.en.stop_words import STOP_WORDS\n",
    "# Gensim\n",
    "#import gensim\n",
    "#import gensim.corpora as corpora\n",
    "#from gensim.utils import simple_preprocess\n",
    "#from gensim.models import CoherenceModel\n",
    "\n",
    "import re\n",
    "\n",
    "from pylab import rcParams"
   ]
  },
  {
   "cell_type": "code",
   "execution_count": 6,
   "metadata": {},
   "outputs": [
    {
     "data": {
      "text/html": [
       "<div>\n",
       "<style scoped>\n",
       "    .dataframe tbody tr th:only-of-type {\n",
       "        vertical-align: middle;\n",
       "    }\n",
       "\n",
       "    .dataframe tbody tr th {\n",
       "        vertical-align: top;\n",
       "    }\n",
       "\n",
       "    .dataframe thead th {\n",
       "        text-align: right;\n",
       "    }\n",
       "</style>\n",
       "<table border=\"1\" class=\"dataframe\">\n",
       "  <thead>\n",
       "    <tr style=\"text-align: right;\">\n",
       "      <th></th>\n",
       "      <th>Unnamed: 0</th>\n",
       "      <th>date</th>\n",
       "      <th>time</th>\n",
       "      <th>text</th>\n",
       "      <th>name</th>\n",
       "    </tr>\n",
       "  </thead>\n",
       "  <tbody>\n",
       "    <tr>\n",
       "      <th>0</th>\n",
       "      <td>1</td>\n",
       "      <td>29/03/2018</td>\n",
       "      <td>09:00</td>\n",
       "      <td>hebiiiiib</td>\n",
       "      <td>DaveY</td>\n",
       "    </tr>\n",
       "    <tr>\n",
       "      <th>1</th>\n",
       "      <td>2</td>\n",
       "      <td>29/03/2018</td>\n",
       "      <td>09:01</td>\n",
       "      <td>hibeb</td>\n",
       "      <td>JackG</td>\n",
       "    </tr>\n",
       "    <tr>\n",
       "      <th>2</th>\n",
       "      <td>3</td>\n",
       "      <td>29/03/2018</td>\n",
       "      <td>09:01</td>\n",
       "      <td>let's just see. we need paul to make a clean ...</td>\n",
       "      <td>DaveY</td>\n",
       "    </tr>\n",
       "    <tr>\n",
       "      <th>3</th>\n",
       "      <td>4</td>\n",
       "      <td>29/03/2018</td>\n",
       "      <td>09:10</td>\n",
       "      <td>yeah - the big de-teather</td>\n",
       "      <td>DaveY</td>\n",
       "    </tr>\n",
       "    <tr>\n",
       "      <th>4</th>\n",
       "      <td>5</td>\n",
       "      <td>29/03/2018</td>\n",
       "      <td>09:11</td>\n",
       "      <td>electing trump doesn't sit with froust neutra...</td>\n",
       "      <td>DaveY</td>\n",
       "    </tr>\n",
       "  </tbody>\n",
       "</table>\n",
       "</div>"
      ],
      "text/plain": [
       "   Unnamed: 0        date     time  \\\n",
       "0           1  29/03/2018   09:00    \n",
       "1           2  29/03/2018   09:01    \n",
       "2           3  29/03/2018   09:01    \n",
       "3           4  29/03/2018   09:10    \n",
       "4           5  29/03/2018   09:11    \n",
       "\n",
       "                                                text   name  \n",
       "0                                          hebiiiiib  DaveY  \n",
       "1                                              hibeb  JackG  \n",
       "2   let's just see. we need paul to make a clean ...  DaveY  \n",
       "3                          yeah - the big de-teather  DaveY  \n",
       "4   electing trump doesn't sit with froust neutra...  DaveY  "
      ]
     },
     "execution_count": 6,
     "metadata": {},
     "output_type": "execute_result"
    }
   ],
   "source": [
    "#LOAD PREPARED DATA\n",
    "df=pd.read_csv('data/PREP_combo_thread_data_20200725.csv')\n",
    "df.head()"
   ]
  },
  {
   "cell_type": "code",
   "execution_count": 7,
   "metadata": {},
   "outputs": [],
   "source": [
    "#Word Cloud specific prep\n",
    "redacted_df = df.drop(df[df['text'] == ' MediaShared'].index)\n",
    "redacted_df = redacted_df.drop(redacted_df[redacted_df['text'] == ' DeletedMsg'].index)\n",
    "redacted_df = redacted_df.drop(redacted_df[redacted_df['text'] == ' Deleted Message'].index)\n",
    "\n",
    "redacted_df.text = redacted_df.text.astype(str)"
   ]
  },
  {
   "cell_type": "code",
   "execution_count": 8,
   "metadata": {},
   "outputs": [
    {
     "data": {
      "text/html": [
       "<div>\n",
       "<style scoped>\n",
       "    .dataframe tbody tr th:only-of-type {\n",
       "        vertical-align: middle;\n",
       "    }\n",
       "\n",
       "    .dataframe tbody tr th {\n",
       "        vertical-align: top;\n",
       "    }\n",
       "\n",
       "    .dataframe thead th {\n",
       "        text-align: right;\n",
       "    }\n",
       "</style>\n",
       "<table border=\"1\" class=\"dataframe\">\n",
       "  <thead>\n",
       "    <tr style=\"text-align: right;\">\n",
       "      <th></th>\n",
       "      <th>Unnamed: 0</th>\n",
       "      <th>date</th>\n",
       "      <th>time</th>\n",
       "      <th>text</th>\n",
       "      <th>name</th>\n",
       "    </tr>\n",
       "  </thead>\n",
       "  <tbody>\n",
       "    <tr>\n",
       "      <th>0</th>\n",
       "      <td>1</td>\n",
       "      <td>29/03/2018</td>\n",
       "      <td>09:00</td>\n",
       "      <td>hebiiiiib</td>\n",
       "      <td>DaveY</td>\n",
       "    </tr>\n",
       "    <tr>\n",
       "      <th>1</th>\n",
       "      <td>2</td>\n",
       "      <td>29/03/2018</td>\n",
       "      <td>09:01</td>\n",
       "      <td>hibeb</td>\n",
       "      <td>JackG</td>\n",
       "    </tr>\n",
       "    <tr>\n",
       "      <th>2</th>\n",
       "      <td>3</td>\n",
       "      <td>29/03/2018</td>\n",
       "      <td>09:01</td>\n",
       "      <td>let's just see. we need paul to make a clean ...</td>\n",
       "      <td>DaveY</td>\n",
       "    </tr>\n",
       "    <tr>\n",
       "      <th>3</th>\n",
       "      <td>4</td>\n",
       "      <td>29/03/2018</td>\n",
       "      <td>09:10</td>\n",
       "      <td>yeah - the big de-teather</td>\n",
       "      <td>DaveY</td>\n",
       "    </tr>\n",
       "    <tr>\n",
       "      <th>4</th>\n",
       "      <td>5</td>\n",
       "      <td>29/03/2018</td>\n",
       "      <td>09:11</td>\n",
       "      <td>electing trump doesn't sit with froust neutra...</td>\n",
       "      <td>DaveY</td>\n",
       "    </tr>\n",
       "  </tbody>\n",
       "</table>\n",
       "</div>"
      ],
      "text/plain": [
       "   Unnamed: 0        date     time  \\\n",
       "0           1  29/03/2018   09:00    \n",
       "1           2  29/03/2018   09:01    \n",
       "2           3  29/03/2018   09:01    \n",
       "3           4  29/03/2018   09:10    \n",
       "4           5  29/03/2018   09:11    \n",
       "\n",
       "                                                text   name  \n",
       "0                                          hebiiiiib  DaveY  \n",
       "1                                              hibeb  JackG  \n",
       "2   let's just see. we need paul to make a clean ...  DaveY  \n",
       "3                          yeah - the big de-teather  DaveY  \n",
       "4   electing trump doesn't sit with froust neutra...  DaveY  "
      ]
     },
     "execution_count": 8,
     "metadata": {},
     "output_type": "execute_result"
    }
   ],
   "source": [
    "redacted_df.head()"
   ]
  },
  {
   "cell_type": "code",
   "execution_count": 9,
   "metadata": {},
   "outputs": [
    {
     "name": "stdout",
     "output_type": "stream",
     "text": [
      "DaveY\n",
      "JackG\n",
      "RobG\n",
      "JamesB\n",
      "PhilH\n",
      "HamishS\n",
      "DamianR\n",
      "PaulD\n",
      "SamT\n",
      "StefanL\n",
      "VerityR\n",
      "ZacL\n",
      "HollyM\n"
     ]
    }
   ],
   "source": [
    "names = redacted_df.name.unique()\n",
    "\n",
    "for i in names:\n",
    "    \n",
    "    print(i)\n",
    "    \n",
    "    df_person = redacted_df.loc[redacted_df.name == i]\n",
    "\n",
    "    text = ' '.join(df_person.text.values.tolist()) \n",
    "\n",
    "    #text = re.sub(r'[^A-Z a-z0-9]+', '', text)\n",
    "    \n",
    "    text = \" \".join(filter(lambda x:x[0:4]!='http', text.split()))\n",
    "    \n",
    "    with open(\"data/input_{}.txt\".format(i), \"w\") as output:\n",
    "        output.write(str(text))"
   ]
  },
  {
   "cell_type": "code",
   "execution_count": 10,
   "metadata": {},
   "outputs": [
    {
     "data": {
      "text/plain": [
       "\"Verity if you play football as well as you play rounders it will have been the most impressive thing they've ever seen!!! :p verity, you're taking a boy to meet this lot.....man you're brave...or he's brave...good luck!!! xx I'm moving to Belize this weekend, can't do anything until July SORRY she's my idol I've been banned from wearing a tux :( Stefan I may be int pub from like 6.45/7 I can withdraw my offer I can offer my house from Saturday to Monday Ace Hobbit? it annoyed me too and I'M a GIRL Verity I'm so proud that I know you, that's amazing!! neck of the swan? Verity's a vegetarian meeeeeee toooooooo Verity...it hurts to be alive right now! hahahahahaha ooooo I was just telling a friend how I'm the token stupid person...proved it nicely TWENTY THIRD PLEASE (I could also do the 14th but I'll be on call which would be crap) (since when did teachers have to be on call?) (pah) autismal isn't a word is it? VERITYYYYYYYYYYYYYYYY erm I've got a CRB I'll be on hand to bake treats just like that oh this just isn't working...I vote maybe we have a drop in froust in the shire? can you froust those dates? the original clog makers is the best yeah, feels like home HR5 3BN bring fire wood Damian deal with it Right the weekend of 28th 29th 30th MY house.....back to the shire for new years...sorted I vote after xmas, as I'm not at my hosue that weekend it will have to be hosted in stages is it? man imagine the state of my house not at mine it's not I 100% guarntee NYE is a monday New years isnt at the weekend?! erm that doesnt leave any weekends does it? TITS?...I'll be sure to get some pre-visit then I'll sell my story to the daily mail.... Asthma medication sends girl on betting and sex bender... YES, I got me a new plan for 2013 such a good goal Fat Lampard, teeeheeehee Weekend on the Welsh borders? at my house? for free?\""
      ]
     },
     "execution_count": 10,
     "metadata": {},
     "output_type": "execute_result"
    }
   ],
   "source": [
    "text"
   ]
  },
  {
   "cell_type": "code",
   "execution_count": null,
   "metadata": {},
   "outputs": [],
   "source": []
  },
  {
   "cell_type": "code",
   "execution_count": null,
   "metadata": {},
   "outputs": [],
   "source": []
  }
 ],
 "metadata": {
  "kernelspec": {
   "display_name": "conda_python3",
   "language": "python",
   "name": "conda_python3"
  },
  "language_info": {
   "codemirror_mode": {
    "name": "ipython",
    "version": 3
   },
   "file_extension": ".py",
   "mimetype": "text/x-python",
   "name": "python",
   "nbconvert_exporter": "python",
   "pygments_lexer": "ipython3",
   "version": "3.6.10"
  }
 },
 "nbformat": 4,
 "nbformat_minor": 4
}
